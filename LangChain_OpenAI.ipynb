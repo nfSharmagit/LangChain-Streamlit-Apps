{
  "nbformat": 4,
  "nbformat_minor": 0,
  "metadata": {
    "colab": {
      "provenance": [],
      "authorship_tag": "ABX9TyNkqtGQJsGNGoimkvq7V6yo",
      "include_colab_link": true
    },
    "kernelspec": {
      "name": "python3",
      "display_name": "Python 3"
    },
    "language_info": {
      "name": "python"
    }
  },
  "cells": [
    {
      "cell_type": "markdown",
      "metadata": {
        "id": "view-in-github",
        "colab_type": "text"
      },
      "source": [
        "<a href=\"https://colab.research.google.com/github/nfSharmagit/LangChain-Streamlit-Apps/blob/main/LangChain_OpenAI.ipynb\" target=\"_parent\"><img src=\"https://colab.research.google.com/assets/colab-badge.svg\" alt=\"Open In Colab\"/></a>"
      ]
    },
    {
      "cell_type": "markdown",
      "source": [
        "LangChain has emerged as one of the most pragmatic frameworks for building LLM-powered applications that actually ship to production"
      ],
      "metadata": {
        "id": "qLKhuRXuNpIc"
      }
    },
    {
      "cell_type": "markdown",
      "source": [
        "**Streamlit**\n",
        "\n",
        "Streamlit is an open-source Python framework for data scientists and AI/ML engineers to deliver dynamic data apps with only a few lines of code. Build and deploy powerful data apps in minutes. Let's get started!\n",
        "\n",
        "[Streamlit Docs](https://docs.streamlit.io/)\n",
        "\n",
        "\n"
      ],
      "metadata": {
        "id": "-hmpvN00NKvn"
      }
    },
    {
      "cell_type": "code",
      "execution_count": 1,
      "metadata": {
        "colab": {
          "base_uri": "https://localhost:8080/"
        },
        "id": "Tgmh1QuMMgMd",
        "outputId": "6be93fef-a453-4896-e9cb-f6537fbb58c9"
      },
      "outputs": [
        {
          "output_type": "stream",
          "name": "stdout",
          "text": [
            "Requirement already satisfied: langchain==0.0.202 in /usr/local/lib/python3.11/dist-packages (0.0.202)\n",
            "Requirement already satisfied: PyYAML>=5.4.1 in /usr/local/lib/python3.11/dist-packages (from langchain==0.0.202) (6.0.2)\n",
            "Requirement already satisfied: SQLAlchemy<3,>=1.4 in /usr/local/lib/python3.11/dist-packages (from langchain==0.0.202) (2.0.42)\n",
            "Requirement already satisfied: aiohttp<4.0.0,>=3.8.3 in /usr/local/lib/python3.11/dist-packages (from langchain==0.0.202) (3.12.15)\n",
            "Requirement already satisfied: dataclasses-json<0.6.0,>=0.5.7 in /usr/local/lib/python3.11/dist-packages (from langchain==0.0.202) (0.5.14)\n",
            "Requirement already satisfied: langchainplus-sdk>=0.0.9 in /usr/local/lib/python3.11/dist-packages (from langchain==0.0.202) (0.0.20)\n",
            "Requirement already satisfied: numexpr<3.0.0,>=2.8.4 in /usr/local/lib/python3.11/dist-packages (from langchain==0.0.202) (2.11.0)\n",
            "Requirement already satisfied: numpy<2,>=1 in /usr/local/lib/python3.11/dist-packages (from langchain==0.0.202) (1.26.4)\n",
            "Requirement already satisfied: openapi-schema-pydantic<2.0,>=1.2 in /usr/local/lib/python3.11/dist-packages (from langchain==0.0.202) (1.2.4)\n",
            "Requirement already satisfied: pydantic<2,>=1 in /usr/local/lib/python3.11/dist-packages (from langchain==0.0.202) (1.10.22)\n",
            "Requirement already satisfied: requests<3,>=2 in /usr/local/lib/python3.11/dist-packages (from langchain==0.0.202) (2.32.3)\n",
            "Requirement already satisfied: tenacity<9.0.0,>=8.1.0 in /usr/local/lib/python3.11/dist-packages (from langchain==0.0.202) (8.5.0)\n",
            "Requirement already satisfied: aiohappyeyeballs>=2.5.0 in /usr/local/lib/python3.11/dist-packages (from aiohttp<4.0.0,>=3.8.3->langchain==0.0.202) (2.6.1)\n",
            "Requirement already satisfied: aiosignal>=1.4.0 in /usr/local/lib/python3.11/dist-packages (from aiohttp<4.0.0,>=3.8.3->langchain==0.0.202) (1.4.0)\n",
            "Requirement already satisfied: attrs>=17.3.0 in /usr/local/lib/python3.11/dist-packages (from aiohttp<4.0.0,>=3.8.3->langchain==0.0.202) (25.3.0)\n",
            "Requirement already satisfied: frozenlist>=1.1.1 in /usr/local/lib/python3.11/dist-packages (from aiohttp<4.0.0,>=3.8.3->langchain==0.0.202) (1.7.0)\n",
            "Requirement already satisfied: multidict<7.0,>=4.5 in /usr/local/lib/python3.11/dist-packages (from aiohttp<4.0.0,>=3.8.3->langchain==0.0.202) (6.6.3)\n",
            "Requirement already satisfied: propcache>=0.2.0 in /usr/local/lib/python3.11/dist-packages (from aiohttp<4.0.0,>=3.8.3->langchain==0.0.202) (0.3.2)\n",
            "Requirement already satisfied: yarl<2.0,>=1.17.0 in /usr/local/lib/python3.11/dist-packages (from aiohttp<4.0.0,>=3.8.3->langchain==0.0.202) (1.20.1)\n",
            "Requirement already satisfied: marshmallow<4.0.0,>=3.18.0 in /usr/local/lib/python3.11/dist-packages (from dataclasses-json<0.6.0,>=0.5.7->langchain==0.0.202) (3.26.1)\n",
            "Requirement already satisfied: typing-inspect<1,>=0.4.0 in /usr/local/lib/python3.11/dist-packages (from dataclasses-json<0.6.0,>=0.5.7->langchain==0.0.202) (0.9.0)\n",
            "Requirement already satisfied: typing-extensions>=4.2.0 in /usr/local/lib/python3.11/dist-packages (from pydantic<2,>=1->langchain==0.0.202) (4.14.1)\n",
            "Requirement already satisfied: charset-normalizer<4,>=2 in /usr/local/lib/python3.11/dist-packages (from requests<3,>=2->langchain==0.0.202) (3.4.2)\n",
            "Requirement already satisfied: idna<4,>=2.5 in /usr/local/lib/python3.11/dist-packages (from requests<3,>=2->langchain==0.0.202) (3.10)\n",
            "Requirement already satisfied: urllib3<3,>=1.21.1 in /usr/local/lib/python3.11/dist-packages (from requests<3,>=2->langchain==0.0.202) (2.5.0)\n",
            "Requirement already satisfied: certifi>=2017.4.17 in /usr/local/lib/python3.11/dist-packages (from requests<3,>=2->langchain==0.0.202) (2025.8.3)\n",
            "Requirement already satisfied: greenlet>=1 in /usr/local/lib/python3.11/dist-packages (from SQLAlchemy<3,>=1.4->langchain==0.0.202) (3.2.3)\n",
            "Requirement already satisfied: packaging>=17.0 in /usr/local/lib/python3.11/dist-packages (from marshmallow<4.0.0,>=3.18.0->dataclasses-json<0.6.0,>=0.5.7->langchain==0.0.202) (25.0)\n",
            "Requirement already satisfied: mypy-extensions>=0.3.0 in /usr/local/lib/python3.11/dist-packages (from typing-inspect<1,>=0.4.0->dataclasses-json<0.6.0,>=0.5.7->langchain==0.0.202) (1.1.0)\n"
          ]
        }
      ],
      "source": [
        "pip install langchain==0.0.202"
      ]
    },
    {
      "cell_type": "code",
      "source": [
        "pip install streamlit==1.23.1"
      ],
      "metadata": {
        "colab": {
          "base_uri": "https://localhost:8080/",
          "height": 1000
        },
        "id": "9ilkoebrNgYx",
        "outputId": "893645c7-253b-477e-f5a4-7c88e7ac6ca2"
      },
      "execution_count": 2,
      "outputs": [
        {
          "output_type": "stream",
          "name": "stdout",
          "text": [
            "Collecting streamlit==1.23.1\n",
            "  Downloading streamlit-1.23.1-py2.py3-none-any.whl.metadata (7.4 kB)\n",
            "Requirement already satisfied: altair<6,>=4.0 in /usr/local/lib/python3.11/dist-packages (from streamlit==1.23.1) (5.5.0)\n",
            "Requirement already satisfied: blinker<2,>=1.0.0 in /usr/local/lib/python3.11/dist-packages (from streamlit==1.23.1) (1.9.0)\n",
            "Requirement already satisfied: cachetools<6,>=4.0 in /usr/local/lib/python3.11/dist-packages (from streamlit==1.23.1) (5.5.2)\n",
            "Requirement already satisfied: click<9,>=7.0 in /usr/local/lib/python3.11/dist-packages (from streamlit==1.23.1) (8.2.1)\n",
            "Collecting importlib-metadata<7,>=1.4 (from streamlit==1.23.1)\n",
            "  Downloading importlib_metadata-6.11.0-py3-none-any.whl.metadata (4.9 kB)\n",
            "Requirement already satisfied: numpy<2,>=1 in /usr/local/lib/python3.11/dist-packages (from streamlit==1.23.1) (1.26.4)\n",
            "Collecting packaging<24,>=14.1 (from streamlit==1.23.1)\n",
            "  Downloading packaging-23.2-py3-none-any.whl.metadata (3.2 kB)\n",
            "Requirement already satisfied: pandas<3,>=0.25 in /usr/local/lib/python3.11/dist-packages (from streamlit==1.23.1) (2.2.2)\n",
            "Collecting pillow<10,>=6.2.0 (from streamlit==1.23.1)\n",
            "  Downloading Pillow-9.5.0-cp311-cp311-manylinux_2_28_x86_64.whl.metadata (9.5 kB)\n",
            "Collecting protobuf<5,>=3.20 (from streamlit==1.23.1)\n",
            "  Downloading protobuf-4.25.8-cp37-abi3-manylinux2014_x86_64.whl.metadata (541 bytes)\n",
            "Requirement already satisfied: pyarrow>=4.0 in /usr/local/lib/python3.11/dist-packages (from streamlit==1.23.1) (18.1.0)\n",
            "Collecting pympler<2,>=0.9 (from streamlit==1.23.1)\n",
            "  Downloading Pympler-1.1-py3-none-any.whl.metadata (3.6 kB)\n",
            "Requirement already satisfied: python-dateutil<3,>=2 in /usr/local/lib/python3.11/dist-packages (from streamlit==1.23.1) (2.9.0.post0)\n",
            "Requirement already satisfied: requests<3,>=2.4 in /usr/local/lib/python3.11/dist-packages (from streamlit==1.23.1) (2.32.3)\n",
            "Requirement already satisfied: rich<14,>=10.11.0 in /usr/local/lib/python3.11/dist-packages (from streamlit==1.23.1) (13.9.4)\n",
            "Requirement already satisfied: tenacity<9,>=8.0.0 in /usr/local/lib/python3.11/dist-packages (from streamlit==1.23.1) (8.5.0)\n",
            "Requirement already satisfied: toml<2 in /usr/local/lib/python3.11/dist-packages (from streamlit==1.23.1) (0.10.2)\n",
            "Requirement already satisfied: typing-extensions<5,>=4.0.1 in /usr/local/lib/python3.11/dist-packages (from streamlit==1.23.1) (4.14.1)\n",
            "Collecting tzlocal<5,>=1.1 (from streamlit==1.23.1)\n",
            "  Downloading tzlocal-4.3.1-py3-none-any.whl.metadata (14 kB)\n",
            "Collecting validators<1,>=0.2 (from streamlit==1.23.1)\n",
            "  Downloading validators-0.35.0-py3-none-any.whl.metadata (3.9 kB)\n",
            "Requirement already satisfied: gitpython!=3.1.19,<4,>=3 in /usr/local/lib/python3.11/dist-packages (from streamlit==1.23.1) (3.1.45)\n",
            "Collecting pydeck<1,>=0.1.dev5 (from streamlit==1.23.1)\n",
            "  Downloading pydeck-0.9.1-py2.py3-none-any.whl.metadata (4.1 kB)\n",
            "Requirement already satisfied: tornado<7,>=6.0.3 in /usr/local/lib/python3.11/dist-packages (from streamlit==1.23.1) (6.4.2)\n",
            "Collecting watchdog (from streamlit==1.23.1)\n",
            "  Downloading watchdog-6.0.0-py3-none-manylinux2014_x86_64.whl.metadata (44 kB)\n",
            "\u001b[2K     \u001b[90m━━━━━━━━━━━━━━━━━━━━━━━━━━━━━━━━━━━━━━━━\u001b[0m \u001b[32m44.3/44.3 kB\u001b[0m \u001b[31m3.3 MB/s\u001b[0m eta \u001b[36m0:00:00\u001b[0m\n",
            "\u001b[?25hRequirement already satisfied: jinja2 in /usr/local/lib/python3.11/dist-packages (from altair<6,>=4.0->streamlit==1.23.1) (3.1.6)\n",
            "Requirement already satisfied: jsonschema>=3.0 in /usr/local/lib/python3.11/dist-packages (from altair<6,>=4.0->streamlit==1.23.1) (4.25.0)\n",
            "Requirement already satisfied: narwhals>=1.14.2 in /usr/local/lib/python3.11/dist-packages (from altair<6,>=4.0->streamlit==1.23.1) (2.0.1)\n",
            "Requirement already satisfied: gitdb<5,>=4.0.1 in /usr/local/lib/python3.11/dist-packages (from gitpython!=3.1.19,<4,>=3->streamlit==1.23.1) (4.0.12)\n",
            "Requirement already satisfied: zipp>=0.5 in /usr/local/lib/python3.11/dist-packages (from importlib-metadata<7,>=1.4->streamlit==1.23.1) (3.23.0)\n",
            "Requirement already satisfied: pytz>=2020.1 in /usr/local/lib/python3.11/dist-packages (from pandas<3,>=0.25->streamlit==1.23.1) (2025.2)\n",
            "Requirement already satisfied: tzdata>=2022.7 in /usr/local/lib/python3.11/dist-packages (from pandas<3,>=0.25->streamlit==1.23.1) (2025.2)\n",
            "Requirement already satisfied: six>=1.5 in /usr/local/lib/python3.11/dist-packages (from python-dateutil<3,>=2->streamlit==1.23.1) (1.17.0)\n",
            "Requirement already satisfied: charset-normalizer<4,>=2 in /usr/local/lib/python3.11/dist-packages (from requests<3,>=2.4->streamlit==1.23.1) (3.4.2)\n",
            "Requirement already satisfied: idna<4,>=2.5 in /usr/local/lib/python3.11/dist-packages (from requests<3,>=2.4->streamlit==1.23.1) (3.10)\n",
            "Requirement already satisfied: urllib3<3,>=1.21.1 in /usr/local/lib/python3.11/dist-packages (from requests<3,>=2.4->streamlit==1.23.1) (2.5.0)\n",
            "Requirement already satisfied: certifi>=2017.4.17 in /usr/local/lib/python3.11/dist-packages (from requests<3,>=2.4->streamlit==1.23.1) (2025.8.3)\n",
            "Requirement already satisfied: markdown-it-py>=2.2.0 in /usr/local/lib/python3.11/dist-packages (from rich<14,>=10.11.0->streamlit==1.23.1) (3.0.0)\n",
            "Requirement already satisfied: pygments<3.0.0,>=2.13.0 in /usr/local/lib/python3.11/dist-packages (from rich<14,>=10.11.0->streamlit==1.23.1) (2.19.2)\n",
            "Collecting pytz-deprecation-shim (from tzlocal<5,>=1.1->streamlit==1.23.1)\n",
            "  Downloading pytz_deprecation_shim-0.1.0.post0-py2.py3-none-any.whl.metadata (5.2 kB)\n",
            "Requirement already satisfied: smmap<6,>=3.0.1 in /usr/local/lib/python3.11/dist-packages (from gitdb<5,>=4.0.1->gitpython!=3.1.19,<4,>=3->streamlit==1.23.1) (5.0.2)\n",
            "Requirement already satisfied: MarkupSafe>=2.0 in /usr/local/lib/python3.11/dist-packages (from jinja2->altair<6,>=4.0->streamlit==1.23.1) (3.0.2)\n",
            "Requirement already satisfied: attrs>=22.2.0 in /usr/local/lib/python3.11/dist-packages (from jsonschema>=3.0->altair<6,>=4.0->streamlit==1.23.1) (25.3.0)\n",
            "Requirement already satisfied: jsonschema-specifications>=2023.03.6 in /usr/local/lib/python3.11/dist-packages (from jsonschema>=3.0->altair<6,>=4.0->streamlit==1.23.1) (2025.4.1)\n",
            "Requirement already satisfied: referencing>=0.28.4 in /usr/local/lib/python3.11/dist-packages (from jsonschema>=3.0->altair<6,>=4.0->streamlit==1.23.1) (0.36.2)\n",
            "Requirement already satisfied: rpds-py>=0.7.1 in /usr/local/lib/python3.11/dist-packages (from jsonschema>=3.0->altair<6,>=4.0->streamlit==1.23.1) (0.26.0)\n",
            "Requirement already satisfied: mdurl~=0.1 in /usr/local/lib/python3.11/dist-packages (from markdown-it-py>=2.2.0->rich<14,>=10.11.0->streamlit==1.23.1) (0.1.2)\n",
            "Downloading streamlit-1.23.1-py2.py3-none-any.whl (8.9 MB)\n",
            "\u001b[2K   \u001b[90m━━━━━━━━━━━━━━━━━━━━━━━━━━━━━━━━━━━━━━━━\u001b[0m \u001b[32m8.9/8.9 MB\u001b[0m \u001b[31m60.6 MB/s\u001b[0m eta \u001b[36m0:00:00\u001b[0m\n",
            "\u001b[?25hDownloading importlib_metadata-6.11.0-py3-none-any.whl (23 kB)\n",
            "Downloading packaging-23.2-py3-none-any.whl (53 kB)\n",
            "\u001b[2K   \u001b[90m━━━━━━━━━━━━━━━━━━━━━━━━━━━━━━━━━━━━━━━━\u001b[0m \u001b[32m53.0/53.0 kB\u001b[0m \u001b[31m4.2 MB/s\u001b[0m eta \u001b[36m0:00:00\u001b[0m\n",
            "\u001b[?25hDownloading Pillow-9.5.0-cp311-cp311-manylinux_2_28_x86_64.whl (3.4 MB)\n",
            "\u001b[2K   \u001b[90m━━━━━━━━━━━━━━━━━━━━━━━━━━━━━━━━━━━━━━━━\u001b[0m \u001b[32m3.4/3.4 MB\u001b[0m \u001b[31m70.4 MB/s\u001b[0m eta \u001b[36m0:00:00\u001b[0m\n",
            "\u001b[?25hDownloading protobuf-4.25.8-cp37-abi3-manylinux2014_x86_64.whl (294 kB)\n",
            "\u001b[2K   \u001b[90m━━━━━━━━━━━━━━━━━━━━━━━━━━━━━━━━━━━━━━━━\u001b[0m \u001b[32m294.9/294.9 kB\u001b[0m \u001b[31m20.4 MB/s\u001b[0m eta \u001b[36m0:00:00\u001b[0m\n",
            "\u001b[?25hDownloading pydeck-0.9.1-py2.py3-none-any.whl (6.9 MB)\n",
            "\u001b[2K   \u001b[90m━━━━━━━━━━━━━━━━━━━━━━━━━━━━━━━━━━━━━━━━\u001b[0m \u001b[32m6.9/6.9 MB\u001b[0m \u001b[31m74.2 MB/s\u001b[0m eta \u001b[36m0:00:00\u001b[0m\n",
            "\u001b[?25hDownloading Pympler-1.1-py3-none-any.whl (165 kB)\n",
            "\u001b[2K   \u001b[90m━━━━━━━━━━━━━━━━━━━━━━━━━━━━━━━━━━━━━━━━\u001b[0m \u001b[32m165.8/165.8 kB\u001b[0m \u001b[31m10.6 MB/s\u001b[0m eta \u001b[36m0:00:00\u001b[0m\n",
            "\u001b[?25hDownloading tzlocal-4.3.1-py3-none-any.whl (20 kB)\n",
            "Downloading validators-0.35.0-py3-none-any.whl (44 kB)\n",
            "\u001b[2K   \u001b[90m━━━━━━━━━━━━━━━━━━━━━━━━━━━━━━━━━━━━━━━━\u001b[0m \u001b[32m44.7/44.7 kB\u001b[0m \u001b[31m3.3 MB/s\u001b[0m eta \u001b[36m0:00:00\u001b[0m\n",
            "\u001b[?25hDownloading watchdog-6.0.0-py3-none-manylinux2014_x86_64.whl (79 kB)\n",
            "\u001b[2K   \u001b[90m━━━━━━━━━━━━━━━━━━━━━━━━━━━━━━━━━━━━━━━━\u001b[0m \u001b[32m79.1/79.1 kB\u001b[0m \u001b[31m6.0 MB/s\u001b[0m eta \u001b[36m0:00:00\u001b[0m\n",
            "\u001b[?25hDownloading pytz_deprecation_shim-0.1.0.post0-py2.py3-none-any.whl (15 kB)\n",
            "Installing collected packages: watchdog, validators, pytz-deprecation-shim, pympler, protobuf, pillow, packaging, importlib-metadata, tzlocal, pydeck, streamlit\n",
            "  Attempting uninstall: protobuf\n",
            "    Found existing installation: protobuf 5.29.5\n",
            "    Uninstalling protobuf-5.29.5:\n",
            "      Successfully uninstalled protobuf-5.29.5\n",
            "  Attempting uninstall: pillow\n",
            "    Found existing installation: pillow 11.3.0\n",
            "    Uninstalling pillow-11.3.0:\n",
            "      Successfully uninstalled pillow-11.3.0\n",
            "  Attempting uninstall: packaging\n",
            "    Found existing installation: packaging 25.0\n",
            "    Uninstalling packaging-25.0:\n",
            "      Successfully uninstalled packaging-25.0\n",
            "  Attempting uninstall: importlib-metadata\n",
            "    Found existing installation: importlib_metadata 8.7.0\n",
            "    Uninstalling importlib_metadata-8.7.0:\n",
            "      Successfully uninstalled importlib_metadata-8.7.0\n",
            "  Attempting uninstall: tzlocal\n",
            "    Found existing installation: tzlocal 5.3.1\n",
            "    Uninstalling tzlocal-5.3.1:\n",
            "      Successfully uninstalled tzlocal-5.3.1\n",
            "\u001b[31mERROR: pip's dependency resolver does not currently take into account all the packages that are installed. This behaviour is the source of the following dependency conflicts.\n",
            "xarray 2025.7.1 requires packaging>=24.1, but you have packaging 23.2 which is incompatible.\n",
            "scikit-image 0.25.2 requires pillow>=10.1, but you have pillow 9.5.0 which is incompatible.\n",
            "google-cloud-bigquery 3.35.1 requires packaging>=24.2.0, but you have packaging 23.2 which is incompatible.\n",
            "ydf 0.13.0 requires protobuf<7.0.0,>=5.29.1, but you have protobuf 4.25.8 which is incompatible.\n",
            "thinc 8.3.6 requires numpy<3.0.0,>=2.0.0, but you have numpy 1.26.4 which is incompatible.\n",
            "thinc 8.3.6 requires pydantic<3.0.0,>=2.0.0, but you have pydantic 1.10.22 which is incompatible.\n",
            "langchain-core 0.3.72 requires pydantic>=2.7.4, but you have pydantic 1.10.22 which is incompatible.\n",
            "db-dtypes 1.4.3 requires packaging>=24.2.0, but you have packaging 23.2 which is incompatible.\n",
            "gradio 5.41.0 requires pydantic<2.12,>=2.0, but you have pydantic 1.10.22 which is incompatible.\n",
            "grpcio-status 1.71.2 requires protobuf<6.0dev,>=5.26.1, but you have protobuf 4.25.8 which is incompatible.\u001b[0m\u001b[31m\n",
            "\u001b[0mSuccessfully installed importlib-metadata-6.11.0 packaging-23.2 pillow-9.5.0 protobuf-4.25.8 pydeck-0.9.1 pympler-1.1 pytz-deprecation-shim-0.1.0.post0 streamlit-1.23.1 tzlocal-4.3.1 validators-0.35.0 watchdog-6.0.0\n"
          ]
        },
        {
          "output_type": "display_data",
          "data": {
            "application/vnd.colab-display-data+json": {
              "pip_warning": {
                "packages": [
                  "google",
                  "packaging"
                ]
              },
              "id": "cf713cf2887444608609f7c878849d76"
            }
          },
          "metadata": {}
        }
      ]
    },
    {
      "cell_type": "code",
      "source": [
        "# Install Model of your choice, we are using OpenAi in this tutorial\n",
        "!pip install openai==0.27.8"
      ],
      "metadata": {
        "colab": {
          "base_uri": "https://localhost:8080/"
        },
        "id": "EB3AdpyaQfr8",
        "outputId": "32397897-fe0b-4cb5-bfaa-0e47577e85d7"
      },
      "execution_count": null,
      "outputs": [
        {
          "output_type": "stream",
          "name": "stdout",
          "text": [
            "Collecting openai==0.27.8\n",
            "  Downloading openai-0.27.8-py3-none-any.whl.metadata (13 kB)\n",
            "Requirement already satisfied: requests>=2.20 in /usr/local/lib/python3.11/dist-packages (from openai==0.27.8) (2.32.3)\n",
            "Requirement already satisfied: tqdm in /usr/local/lib/python3.11/dist-packages (from openai==0.27.8) (4.67.1)\n",
            "Requirement already satisfied: aiohttp in /usr/local/lib/python3.11/dist-packages (from openai==0.27.8) (3.12.15)\n",
            "Requirement already satisfied: charset-normalizer<4,>=2 in /usr/local/lib/python3.11/dist-packages (from requests>=2.20->openai==0.27.8) (3.4.2)\n",
            "Requirement already satisfied: idna<4,>=2.5 in /usr/local/lib/python3.11/dist-packages (from requests>=2.20->openai==0.27.8) (3.10)\n",
            "Requirement already satisfied: urllib3<3,>=1.21.1 in /usr/local/lib/python3.11/dist-packages (from requests>=2.20->openai==0.27.8) (2.5.0)\n",
            "Requirement already satisfied: certifi>=2017.4.17 in /usr/local/lib/python3.11/dist-packages (from requests>=2.20->openai==0.27.8) (2025.8.3)\n",
            "Requirement already satisfied: aiohappyeyeballs>=2.5.0 in /usr/local/lib/python3.11/dist-packages (from aiohttp->openai==0.27.8) (2.6.1)\n",
            "Requirement already satisfied: aiosignal>=1.4.0 in /usr/local/lib/python3.11/dist-packages (from aiohttp->openai==0.27.8) (1.4.0)\n",
            "Requirement already satisfied: attrs>=17.3.0 in /usr/local/lib/python3.11/dist-packages (from aiohttp->openai==0.27.8) (25.3.0)\n",
            "Requirement already satisfied: frozenlist>=1.1.1 in /usr/local/lib/python3.11/dist-packages (from aiohttp->openai==0.27.8) (1.7.0)\n",
            "Requirement already satisfied: multidict<7.0,>=4.5 in /usr/local/lib/python3.11/dist-packages (from aiohttp->openai==0.27.8) (6.6.3)\n",
            "Requirement already satisfied: propcache>=0.2.0 in /usr/local/lib/python3.11/dist-packages (from aiohttp->openai==0.27.8) (0.3.2)\n",
            "Requirement already satisfied: yarl<2.0,>=1.17.0 in /usr/local/lib/python3.11/dist-packages (from aiohttp->openai==0.27.8) (1.20.1)\n",
            "Requirement already satisfied: typing-extensions>=4.2 in /usr/local/lib/python3.11/dist-packages (from aiosignal>=1.4.0->aiohttp->openai==0.27.8) (4.14.1)\n",
            "Downloading openai-0.27.8-py3-none-any.whl (73 kB)\n",
            "\u001b[2K   \u001b[90m━━━━━━━━━━━━━━━━━━━━━━━━━━━━━━━━━━━━━━━━\u001b[0m \u001b[32m73.6/73.6 kB\u001b[0m \u001b[31m3.6 MB/s\u001b[0m eta \u001b[36m0:00:00\u001b[0m\n",
            "\u001b[?25h^C\n"
          ]
        }
      ]
    },
    {
      "cell_type": "markdown",
      "source": [
        "## App by Steamlit\n",
        "\n",
        "For the app to work in colab all the code that the app requires should be in the cell that follows `%%writefile`. Therefore, it is necessary to add teh comments where ever necessary."
      ],
      "metadata": {
        "id": "BW4v-1XdVGt8"
      }
    },
    {
      "cell_type": "code",
      "source": [
        "%%writefile langChainApp.py\n",
        "\n",
        "from langchain.llms import OpenAI\n",
        "from langchain.prompts import PromptTemplate\n",
        "\n",
        "import streamlit as st\n",
        "import os\n",
        "\n",
        "# Add your own secret API key\n",
        "openai_key = \"xxx\"\n",
        "\n",
        "# Model Setup\n",
        "#Initializing the OpenAI LLM with the key\n",
        "os.environ[\"OPENAI_API_KEY\"] = openai_key\n",
        "\n",
        "# Initialize the the model with a specific Inference Parameterts 1. temperature, Top_p 2. Length --> Top_k.\n",
        "# 1. Temperature controls randomness or creativity of the model's output. It ranges from 0 to 1. a low temperature is good for facts and high temperature is good for more creative + diverse outputs. We will set it to 0.7\n",
        "# 2. Top_p is a probabilty metrics that controls the top percentiles of the words from the propbabilty distribution. Lower Top_p --> less words --> more factual output. Higher Top_p --> more words --> more creative output\n",
        "llm = OpenAI(model=\"gpt-3.5-turbo-instruct\", temperature=0.7)\n",
        "\n",
        "# Streamlit App Setup\n",
        "st.title(\"🦜🔗 LangChain Anime App\")\n",
        "input_text = st.text_input(\"Enter your favourite Anime character to search:\")\n",
        "print(input_text)\n",
        "\n",
        "# Prompt engineering Best Practices -\n",
        "# 1. Alsways start prompt with interrorgation. Begin prompt with words like WHO, WHAT, WHERE, WHY & HOW\n",
        "# 2. Provide Context\n",
        "# 3. Provide Example Response\n",
        "\n",
        "# Create your prompt here\n",
        "# 1. Define a prompt template with placeholders\n",
        "prompt_template=\"You are an encyclopedia of Anime. Provide a brief summary for {anime_character}. Also, proivde the super move of the character.\"\n",
        "prompt = PromptTemplate(input_variables=[\"anime_character\"], template = prompt_template)\n",
        "\n",
        "# Format the prompt with specific values\n",
        "formatted_prompt = prompt.format(anime_character = input_text)\n",
        "\n",
        "print(formatted_prompt)\n",
        "\n",
        "if input_text:\n",
        "  response = llm(formatted_prompt)\n",
        "  st.write(\"Response from model:\")\n",
        "  st.write(response)\n"
      ],
      "metadata": {
        "colab": {
          "base_uri": "https://localhost:8080/"
        },
        "id": "cpcvcH55aQ_b",
        "outputId": "fb8365d5-d22e-428c-ebc6-8623936d7535"
      },
      "execution_count": 3,
      "outputs": [
        {
          "output_type": "stream",
          "name": "stdout",
          "text": [
            "Overwriting langChainApp.py\n"
          ]
        }
      ]
    },
    {
      "cell_type": "markdown",
      "source": [
        "## Launch Streamlit App from Google Colab Notebook\n"
      ],
      "metadata": {
        "id": "h3nZEve5aZdz"
      }
    },
    {
      "cell_type": "markdown",
      "source": [
        "[How to Launch Streamlit App from Google Colab Notebook](https://discuss.streamlit.io/t/how-to-launch-streamlit-app-from-google-colab-notebook/42399)\n",
        "Install localtunnel to serve the Streamlit app"
      ],
      "metadata": {
        "id": "iyrJKDjDcWwk"
      }
    },
    {
      "cell_type": "code",
      "source": [
        "!npm install localtunnel\n",
        "!npm audit fix --force\n",
        "!npm audit fix"
      ],
      "metadata": {
        "colab": {
          "base_uri": "https://localhost:8080/"
        },
        "id": "VOFPKdd-ccK0",
        "outputId": "27876a3c-4623-419d-ae19-db50446acdc7"
      },
      "execution_count": null,
      "outputs": [
        {
          "output_type": "stream",
          "name": "stdout",
          "text": [
            "\u001b[1G\u001b[0K⠙\u001b[1G\u001b[0K⠹\u001b[1G\u001b[0K⠸\u001b[1G\u001b[0K⠼\u001b[1G\u001b[0K⠴\u001b[1G\u001b[0K⠦\u001b[1G\u001b[0K⠧\u001b[1G\u001b[0K⠇\u001b[1G\u001b[0K⠏\u001b[1G\u001b[0K⠋\u001b[1G\u001b[0K⠙\u001b[1G\u001b[0K⠹\u001b[1G\u001b[0K⠸\u001b[1G\u001b[0K⠼\u001b[1G\u001b[0K⠴\u001b[1G\u001b[0K⠦\u001b[1G\u001b[0K⠧\u001b[1G\u001b[0K⠇\u001b[1G\u001b[0K⠏\u001b[1G\u001b[0K⠋\u001b[1G\u001b[0K⠙\u001b[1G\u001b[0K⠹\u001b[1G\u001b[0K⠸\u001b[1G\u001b[0K⠼\u001b[1G\u001b[0K⠴\u001b[1G\u001b[0K⠦\u001b[1G\u001b[0K⠧\u001b[1G\u001b[0K⠇\u001b[1G\u001b[0K⠏\u001b[1G\u001b[0K⠋\u001b[1G\u001b[0K⠙\u001b[1G\u001b[0K⠹\u001b[1G\u001b[0K⠸\u001b[1G\u001b[0K⠼\u001b[1G\u001b[0K⠴\u001b[1G\u001b[0K⠦\u001b[1G\u001b[0K⠧\u001b[1G\u001b[0K⠇\u001b[1G\u001b[0K⠏\u001b[1G\u001b[0K\u001b[1mnpm\u001b[22m \u001b[33mwarn\u001b[39m \u001b[94mdeprecated\u001b[39m debug@4.1.1: Debug versions >=3.2.0 <3.2.7 || >=4 <4.3.1 have a low-severity ReDos regression when used in a Node.js environment. It is recommended you upgrade to 3.2.7 or 4.3.1. (https://github.com/visionmedia/debug/issues/797)\n",
            "\u001b[1G\u001b[0K⠏\u001b[1G\u001b[0K⠋\u001b[1G\u001b[0K\u001b[1mnpm\u001b[22m \u001b[33mwarn\u001b[39m \u001b[94mdeprecated\u001b[39m axios@0.19.0: Critical security vulnerability fixed in v0.21.1. For more information, see https://github.com/axios/axios/pull/3410\n",
            "\u001b[1G\u001b[0K⠋\u001b[1G\u001b[0K⠙\u001b[1G\u001b[0K⠹\u001b[1G\u001b[0K⠸\u001b[1G\u001b[0K\n",
            "added 38 packages, removed 74 packages, changed 5 packages, and audited 60 packages in 4s\n",
            "\u001b[1G\u001b[0K⠸\u001b[1G\u001b[0K\n",
            "\u001b[1G\u001b[0K⠸\u001b[1G\u001b[0K5 packages are looking for funding\n",
            "\u001b[1G\u001b[0K⠸\u001b[1G\u001b[0K  run `npm fund` for details\n",
            "\u001b[1G\u001b[0K⠸\u001b[1G\u001b[0K\n",
            "\u001b[31m\u001b[1m6\u001b[22m\u001b[39m vulnerabilities (1 \u001b[1mlow\u001b[22m, 2 \u001b[33m\u001b[1mmoderate\u001b[22m\u001b[39m, 3 \u001b[31m\u001b[1mhigh\u001b[22m\u001b[39m)\n",
            "\n",
            "To address all issues (including breaking changes), run:\n",
            "  npm audit fix --force\n",
            "\n",
            "Run `npm audit` for details.\n",
            "\u001b[1G\u001b[0K⠸\u001b[1G\u001b[0K\u001b[1mnpm\u001b[22m \u001b[33mwarn\u001b[39m \u001b[94musing --force\u001b[39m Recommended protections disabled.\n",
            "\u001b[1G\u001b[0K⠙\u001b[1G\u001b[0K⠹\u001b[1G\u001b[0K⠸\u001b[1G\u001b[0K⠼\u001b[1G\u001b[0K\u001b[1mnpm\u001b[22m \u001b[33mwarn\u001b[39m \u001b[94maudit\u001b[39m Updating localtunnel to 2.0.2, which is a SemVer major change.\n",
            "\u001b[1G\u001b[0K⠼\u001b[1G\u001b[0K⠴\u001b[1G\u001b[0K⠦\u001b[1G\u001b[0K⠧\u001b[1G\u001b[0K⠇\u001b[1G\u001b[0K⠏\u001b[1G\u001b[0K⠋\u001b[1G\u001b[0K⠙\u001b[1G\u001b[0K⠹\u001b[1G\u001b[0K⠸\u001b[1G\u001b[0K\n",
            "added 5 packages, removed 42 packages, changed 15 packages, and audited 23 packages in 2s\n",
            "\u001b[1G\u001b[0K⠸\u001b[1G\u001b[0K\n",
            "\u001b[1G\u001b[0K⠸\u001b[1G\u001b[0K3 packages are looking for funding\n",
            "\u001b[1G\u001b[0K⠸\u001b[1G\u001b[0K  run `npm fund` for details\n",
            "\u001b[1G\u001b[0K⠸\u001b[1G\u001b[0K\n",
            "\u001b[1m# npm audit report\u001b[22m\n",
            "\n",
            "\u001b[1maxios\u001b[22m  <=0.29.0\n",
            "Severity: \u001b[31m\u001b[1mhigh\u001b[22m\u001b[39m\n",
            "\u001b[1mAxios Cross-Site Request Forgery Vulnerability\u001b[22m - https://github.com/advisories/GHSA-wf5p-g6vw-rhxx\n",
            "\u001b[1maxios Requests Vulnerable To Possible SSRF and Credential Leakage via Absolute URL\u001b[22m - https://github.com/advisories/GHSA-jr5f-v2jv-69x6\n",
            "\u001b[33m\u001b[1mfix available\u001b[22m\u001b[39m via `npm audit fix --force`\n",
            "Will install localtunnel@1.8.3, which is a breaking change\n",
            "\u001b[2mnode_modules/axios\u001b[22m\n",
            "  \u001b[1mlocaltunnel\u001b[22m  >=1.9.0\n",
            "  Depends on vulnerable versions of \u001b[1maxios\u001b[22m\n",
            "  \u001b[2mnode_modules/localtunnel\u001b[22m\n",
            "\n",
            "2 \u001b[31m\u001b[1mhigh\u001b[22m\u001b[39m severity vulnerabilities\n",
            "\n",
            "To address all issues (including breaking changes), run:\n",
            "  npm audit fix --force\n",
            "\u001b[1G\u001b[0K⠸\u001b[1G\u001b[0K\u001b[1G\u001b[0K⠙\u001b[1G\u001b[0K⠹\u001b[1G\u001b[0K⠸\u001b[1G\u001b[0K⠼\u001b[1G\u001b[0K⠴\u001b[1G\u001b[0K\n",
            "up to date, audited 23 packages in 817ms\n",
            "\u001b[1G\u001b[0K⠴\u001b[1G\u001b[0K\n",
            "\u001b[1G\u001b[0K⠴\u001b[1G\u001b[0K3 packages are looking for funding\n",
            "\u001b[1G\u001b[0K⠴\u001b[1G\u001b[0K  run `npm fund` for details\n",
            "\u001b[1G\u001b[0K⠴\u001b[1G\u001b[0K\n",
            "\u001b[1m# npm audit report\u001b[22m\n",
            "\n",
            "\u001b[1maxios\u001b[22m  <=0.29.0\n",
            "Severity: \u001b[31m\u001b[1mhigh\u001b[22m\u001b[39m\n",
            "\u001b[1mAxios Cross-Site Request Forgery Vulnerability\u001b[22m - https://github.com/advisories/GHSA-wf5p-g6vw-rhxx\n",
            "\u001b[1maxios Requests Vulnerable To Possible SSRF and Credential Leakage via Absolute URL\u001b[22m - https://github.com/advisories/GHSA-jr5f-v2jv-69x6\n",
            "\u001b[33m\u001b[1mfix available\u001b[22m\u001b[39m via `npm audit fix --force`\n",
            "Will install localtunnel@1.8.3, which is a breaking change\n",
            "\u001b[2mnode_modules/axios\u001b[22m\n",
            "  \u001b[1mlocaltunnel\u001b[22m  >=1.9.0\n",
            "  Depends on vulnerable versions of \u001b[1maxios\u001b[22m\n",
            "  \u001b[2mnode_modules/localtunnel\u001b[22m\n",
            "\n",
            "2 \u001b[31m\u001b[1mhigh\u001b[22m\u001b[39m severity vulnerabilities\n",
            "\n",
            "To address all issues (including breaking changes), run:\n",
            "  npm audit fix --force\n",
            "\u001b[1G\u001b[0K⠴\u001b[1G\u001b[0K"
          ]
        }
      ]
    },
    {
      "cell_type": "code",
      "source": [
        "!streamlit run langChainApp.py &>/content/logs.txt & npx localtunnel --port 8501 & curl ipv4.icanhazip.com"
      ],
      "metadata": {
        "colab": {
          "base_uri": "https://localhost:8080/"
        },
        "id": "DACbCuyfcch7",
        "outputId": "4b3121f7-ed02-48c3-e849-ffc4e641e1b2"
      },
      "execution_count": null,
      "outputs": [
        {
          "output_type": "stream",
          "name": "stdout",
          "text": [
            "35.233.176.1\n",
            "\u001b[1G\u001b[0K⠙\u001b[1G\u001b[0Kyour url is: https://nine-icons-cough.loca.lt\n"
          ]
        }
      ]
    },
    {
      "cell_type": "markdown",
      "source": [
        "This will give you the EnpointIP your Internet is running on. Copy that IP & paste it into the Friendly Reminder page. Then you should be directed into your streamlit web app page. This is a great way to test your web app before actual deployment.\n",
        "\n",
        "`import urllib`\n",
        "\n",
        "`print(\"Password/Enpoint IP for localtunnel is:\",urllib.request.urlopen('https://ipv4.icanhazip.com').read().decode('utf8').strip(\"\\n\"))`\n"
      ],
      "metadata": {
        "id": "H17tk6yCdw86"
      }
    },
    {
      "cell_type": "markdown",
      "source": [
        "## Using LangChain\n",
        "The word **Chain** in the context of langChain provides modularity. The term \"**chain**\" refers to the modular architecture that allows developers to build end-to-end AI workflows.\n",
        "The \"chain\" concept allows for the orchestration of complex AI pipelines that handle everything from data preprocessing to final output generation.\n",
        "This modular design not only simplifies the development process but also enhances the adaptability and efficiency of AI applications.\n"
      ],
      "metadata": {
        "id": "CcwewTaWdjP6"
      }
    },
    {
      "cell_type": "markdown",
      "source": [
        "### Code After introducing langChain"
      ],
      "metadata": {
        "id": "KNH_nK-lZJUa"
      }
    },
    {
      "cell_type": "code",
      "source": [
        "%%writefile langChainApp.py\n",
        "\n",
        "from langchain.llms import OpenAI\n",
        "from langchain.prompts import PromptTemplate\n",
        "from langchain.chains import LLMChain\n",
        "\n",
        "import streamlit as st\n",
        "import os\n",
        "\n",
        "# Add your own secret API key\n",
        "openai_key = \"xxx\"\n",
        "\n",
        "# Model Setup\n",
        "#Initializing the OpenAI LLM with the key\n",
        "os.environ[\"OPENAI_API_KEY\"] = openai_key\n",
        "\n",
        "# Initialize the the model with a specific Inference Parameterts 1. temperature, Top_p 2. Length --> Top_k.\n",
        "# 1. Temperature controls randomness or creativity of the model's output. It ranges from 0 to 1. a low temperature is good for facts and high temperature is good for more creative + diverse outputs. We will set it to 0.7\n",
        "# 2. Top_p is a probabilty metrics that controls the top percentiles of the words from the propbabilty distribution. Lower Top_p --> less words --> more factual output. Higher Top_p --> more words --> more creative output\n",
        "llm = OpenAI(model=\"gpt-3.5-turbo-instruct\", temperature=0.7)\n",
        "\n",
        "# Streamlit App Setup\n",
        "st.title(\"🦜🔗 LangChain Anime App\")\n",
        "input_text = st.text_input(\"Enter your favourite Anime character to search:\")\n",
        "print(input_text)\n",
        "\n",
        "# Prompt engineering Best Practices -\n",
        "# 1. Alsways start prompt with interrorgation. Begin prompt with words like WHO, WHAT, WHERE, WHY & HOW\n",
        "# 2. Provide Context\n",
        "# 3. Provide Example Response\n",
        "\n",
        "# Create your prompt here\n",
        "# 1. Define a prompt template with placeholders\n",
        "prompt_template=\"You are an encyclopedia of Anime. Provide a brief summary for {anime_character}. Also, proivde the super move of the character.\"\n",
        "prompt = PromptTemplate(input_variables=[\"anime_character\"], template = prompt_template)\n",
        "\n",
        "\n",
        "if input_text:\n",
        "  llm_chain = LLMChain(llm=llm, prompt=prompt)\n",
        "  #LLmChain allows you to avoid the promptformatting.\n",
        "  try:\n",
        "    response = llm_chain.run(anime_character = input_text)\n",
        "  except Exception as e:\n",
        "    st.write(\"There is an error in getting response from the llm.\")\n",
        "    st.error(f\"Error\",{e})\n",
        "  else:\n",
        "    st.write(\"Response from model:\")\n",
        "    st.write(response)\n"
      ],
      "metadata": {
        "colab": {
          "base_uri": "https://localhost:8080/"
        },
        "id": "RyZ44aseb5pp",
        "outputId": "0c2eff5d-6e93-4756-ba2c-fa708320258b"
      },
      "execution_count": 7,
      "outputs": [
        {
          "output_type": "stream",
          "name": "stdout",
          "text": [
            "Overwriting langChainApp.py\n"
          ]
        }
      ]
    },
    {
      "cell_type": "code",
      "source": [
        "!npm install localtunnel\n",
        "!npm audit fix --force\n",
        "!npm audit fix"
      ],
      "metadata": {
        "colab": {
          "base_uri": "https://localhost:8080/"
        },
        "id": "6owbtlp0gQj2",
        "outputId": "456e1b5c-6ad0-43ad-99ae-7167b2fc1e11"
      },
      "execution_count": 3,
      "outputs": [
        {
          "output_type": "stream",
          "name": "stdout",
          "text": [
            "\u001b[1G\u001b[0K⠙\u001b[1G\u001b[0K⠹\u001b[1G\u001b[0K⠸\u001b[1G\u001b[0K⠼\u001b[1G\u001b[0K⠴\u001b[1G\u001b[0K⠦\u001b[1G\u001b[0K⠧\u001b[1G\u001b[0K⠇\u001b[1G\u001b[0K⠏\u001b[1G\u001b[0K⠋\u001b[1G\u001b[0K⠙\u001b[1G\u001b[0K⠹\u001b[1G\u001b[0K⠸\u001b[1G\u001b[0K⠼\u001b[1G\u001b[0K⠴\u001b[1G\u001b[0K⠦\u001b[1G\u001b[0K⠧\u001b[1G\u001b[0K⠇\u001b[1G\u001b[0K⠏\u001b[1G\u001b[0K⠋\u001b[1G\u001b[0K⠙\u001b[1G\u001b[0K⠹\u001b[1G\u001b[0K\n",
            "added 22 packages in 3s\n",
            "\u001b[1G\u001b[0K⠹\u001b[1G\u001b[0K\n",
            "\u001b[1G\u001b[0K⠹\u001b[1G\u001b[0K3 packages are looking for funding\n",
            "\u001b[1G\u001b[0K⠹\u001b[1G\u001b[0K  run `npm fund` for details\n",
            "\u001b[1G\u001b[0K⠹\u001b[1G\u001b[0K\u001b[1mnpm\u001b[22m \u001b[33mwarn\u001b[39m \u001b[94musing --force\u001b[39m Recommended protections disabled.\n",
            "\u001b[1G\u001b[0K⠙\u001b[1G\u001b[0K⠹\u001b[1G\u001b[0K⠸\u001b[1G\u001b[0K⠼\u001b[1G\u001b[0K⠴\u001b[1G\u001b[0K\u001b[1mnpm\u001b[22m \u001b[33mwarn\u001b[39m \u001b[94maudit\u001b[39m Updating localtunnel to 1.8.3, which is a SemVer major change.\n",
            "\u001b[1G\u001b[0K⠴\u001b[1G\u001b[0K⠦\u001b[1G\u001b[0K⠧\u001b[1G\u001b[0K⠇\u001b[1G\u001b[0K⠏\u001b[1G\u001b[0K⠋\u001b[1G\u001b[0K⠙\u001b[1G\u001b[0K⠹\u001b[1G\u001b[0K⠸\u001b[1G\u001b[0K⠼\u001b[1G\u001b[0K⠴\u001b[1G\u001b[0K⠦\u001b[1G\u001b[0K⠧\u001b[1G\u001b[0K⠇\u001b[1G\u001b[0K⠏\u001b[1G\u001b[0K⠋\u001b[1G\u001b[0K⠙\u001b[1G\u001b[0K⠹\u001b[1G\u001b[0K⠸\u001b[1G\u001b[0K⠼\u001b[1G\u001b[0K⠴\u001b[1G\u001b[0K⠦\u001b[1G\u001b[0K⠧\u001b[1G\u001b[0K⠇\u001b[1G\u001b[0K⠏\u001b[1G\u001b[0K⠋\u001b[1G\u001b[0K⠙\u001b[1G\u001b[0K⠹\u001b[1G\u001b[0K⠸\u001b[1G\u001b[0K⠼\u001b[1G\u001b[0K⠴\u001b[1G\u001b[0K⠦\u001b[1G\u001b[0K⠧\u001b[1G\u001b[0K⠇\u001b[1G\u001b[0K⠏\u001b[1G\u001b[0K⠋\u001b[1G\u001b[0K⠙\u001b[1G\u001b[0K⠹\u001b[1G\u001b[0K⠸\u001b[1G\u001b[0K⠼\u001b[1G\u001b[0K⠴\u001b[1G\u001b[0K⠦\u001b[1G\u001b[0K⠧\u001b[1G\u001b[0K⠇\u001b[1G\u001b[0K⠏\u001b[1G\u001b[0K⠋\u001b[1G\u001b[0K⠙\u001b[1G\u001b[0K⠹\u001b[1G\u001b[0K⠸\u001b[1G\u001b[0K⠼\u001b[1G\u001b[0K⠴\u001b[1G\u001b[0K⠦\u001b[1G\u001b[0K⠧\u001b[1G\u001b[0K⠇\u001b[1G\u001b[0K⠏\u001b[1G\u001b[0K⠋\u001b[1G\u001b[0K⠙\u001b[1G\u001b[0K⠹\u001b[1G\u001b[0K⠸\u001b[1G\u001b[0K⠼\u001b[1G\u001b[0K⠴\u001b[1G\u001b[0K⠦\u001b[1G\u001b[0K⠧\u001b[1G\u001b[0K⠇\u001b[1G\u001b[0K⠏\u001b[1G\u001b[0K\u001b[1mnpm\u001b[22m \u001b[33mwarn\u001b[39m \u001b[94mdeprecated\u001b[39m cryptiles@2.0.5: This version has been deprecated in accordance with the hapi support policy (hapi.im/support). Please upgrade to the latest version to get the best features, bug fixes, and security patches. If you are unable to upgrade at this time, paid support is available for older versions (hapi.im/commercial).\n",
            "\u001b[1G\u001b[0K⠏\u001b[1G\u001b[0K\u001b[1mnpm\u001b[22m \u001b[33mwarn\u001b[39m \u001b[94mdeprecated\u001b[39m sntp@1.0.9: This module moved to @hapi/sntp. Please make sure to switch over as this distribution is no longer supported and may contain bugs and critical security issues.\n",
            "\u001b[1G\u001b[0K⠋\u001b[1G\u001b[0K⠙\u001b[1G\u001b[0K\u001b[1mnpm\u001b[22m \u001b[33mwarn\u001b[39m \u001b[94mdeprecated\u001b[39m har-validator@4.2.1: this library is no longer supported\n",
            "\u001b[1G\u001b[0K⠙\u001b[1G\u001b[0K\u001b[1mnpm\u001b[22m \u001b[33mwarn\u001b[39m \u001b[94mdeprecated\u001b[39m uuid@3.4.0: Please upgrade  to version 7 or higher.  Older versions may use Math.random() in certain circumstances, which is known to be problematic.  See https://v8.dev/blog/math-random for details.\n",
            "\u001b[1G\u001b[0K⠙\u001b[1G\u001b[0K\u001b[1mnpm\u001b[22m \u001b[33mwarn\u001b[39m \u001b[94mdeprecated\u001b[39m boom@2.10.1: This version has been deprecated in accordance with the hapi support policy (hapi.im/support). Please upgrade to the latest version to get the best features, bug fixes, and security patches. If you are unable to upgrade at this time, paid support is available for older versions (hapi.im/commercial).\n",
            "\u001b[1G\u001b[0K⠹\u001b[1G\u001b[0K\u001b[1mnpm\u001b[22m \u001b[33mwarn\u001b[39m \u001b[94mdeprecated\u001b[39m request@2.81.0: request has been deprecated, see https://github.com/request/request/issues/3142\n",
            "\u001b[1G\u001b[0K⠹\u001b[1G\u001b[0K\u001b[1mnpm\u001b[22m \u001b[33mwarn\u001b[39m \u001b[94mdeprecated\u001b[39m hoek@2.16.3: This version has been deprecated in accordance with the hapi support policy (hapi.im/support). Please upgrade to the latest version to get the best features, bug fixes, and security patches. If you are unable to upgrade at this time, paid support is available for older versions (hapi.im/commercial).\n",
            "\u001b[1G\u001b[0K⠹\u001b[1G\u001b[0K\u001b[1mnpm\u001b[22m \u001b[33mwarn\u001b[39m \u001b[94mdeprecated\u001b[39m hawk@3.1.3: This module moved to @hapi/hawk. Please make sure to switch over as this distribution is no longer supported and may contain bugs and critical security issues.\n",
            "\u001b[1G\u001b[0K⠹\u001b[1G\u001b[0K⠸\u001b[1G\u001b[0K⠼\u001b[1G\u001b[0K⠴\u001b[1G\u001b[0K⠦\u001b[1G\u001b[0K⠧\u001b[1G\u001b[0K\n",
            "added 83 packages, removed 10 packages, changed 11 packages, and audited 96 packages in 7s\n",
            "\u001b[1G\u001b[0K⠧\u001b[1G\u001b[0K\n",
            "\u001b[1G\u001b[0K⠧\u001b[1G\u001b[0K11 packages are looking for funding\n",
            "\u001b[1G\u001b[0K⠧\u001b[1G\u001b[0K  run `npm fund` for details\n",
            "\u001b[1G\u001b[0K⠧\u001b[1G\u001b[0K\n",
            "\u001b[1m# npm audit report\u001b[22m\n",
            "\n",
            "\u001b[1majv\u001b[22m  <6.12.3\n",
            "Severity: \u001b[33m\u001b[1mmoderate\u001b[22m\u001b[39m\n",
            "\u001b[1mPrototype Pollution in Ajv\u001b[22m - https://github.com/advisories/GHSA-v88g-cgmw-v5xw\n",
            "\u001b[32m\u001b[1mfix available\u001b[22m\u001b[39m via `npm audit fix`\n",
            "\u001b[2mnode_modules/ajv\u001b[22m\n",
            "  \u001b[1mhar-validator\u001b[22m  3.3.0 - 5.1.0\n",
            "  Depends on vulnerable versions of \u001b[1majv\u001b[22m\n",
            "  \u001b[2mnode_modules/har-validator\u001b[22m\n",
            "    \u001b[1mrequest\u001b[22m  *\n",
            "    Depends on vulnerable versions of \u001b[1mform-data\u001b[22m\n",
            "    Depends on vulnerable versions of \u001b[1mhar-validator\u001b[22m\n",
            "    Depends on vulnerable versions of \u001b[1mhawk\u001b[22m\n",
            "    Depends on vulnerable versions of \u001b[1mtough-cookie\u001b[22m\n",
            "    \u001b[2mnode_modules/request\u001b[22m\n",
            "      \u001b[1mlocaltunnel\u001b[22m  <=1.9.0\n",
            "      Depends on vulnerable versions of \u001b[1mdebug\u001b[22m\n",
            "      Depends on vulnerable versions of \u001b[1mrequest\u001b[22m\n",
            "      \u001b[2mnode_modules/localtunnel\u001b[22m\n",
            "\n",
            "\u001b[1mdebug\u001b[22m  <=2.6.8\n",
            "Severity: \u001b[31m\u001b[1mhigh\u001b[22m\u001b[39m\n",
            "\u001b[1mdebug Inefficient Regular Expression Complexity vulnerability\u001b[22m - https://github.com/advisories/GHSA-9vvw-cc9w-f27h\n",
            "\u001b[1mRegular Expression Denial of Service in debug\u001b[22m - https://github.com/advisories/GHSA-gxpj-cx7g-858c\n",
            "\u001b[32m\u001b[1mfix available\u001b[22m\u001b[39m via `npm audit fix`\n",
            "\u001b[2mnode_modules/debug\u001b[22m\n",
            "\n",
            "\u001b[1mform-data\u001b[22m  <2.5.4\n",
            "Severity: \u001b[35m\u001b[1mcritical\u001b[22m\u001b[39m\n",
            "\u001b[1mform-data uses unsafe random function in form-data for choosing boundary\u001b[22m - https://github.com/advisories/GHSA-fjxv-7rqg-78g4\n",
            "\u001b[32m\u001b[1mfix available\u001b[22m\u001b[39m via `npm audit fix`\n",
            "\u001b[2mnode_modules/form-data\u001b[22m\n",
            "\n",
            "\u001b[1mhawk\u001b[22m  <=9.0.0\n",
            "Severity: \u001b[31m\u001b[1mhigh\u001b[22m\u001b[39m\n",
            "\u001b[1mUncontrolled Resource Consumption in Hawk\u001b[22m - https://github.com/advisories/GHSA-44pw-h2cw-w3vq\n",
            "Depends on vulnerable versions of \u001b[1mboom\u001b[22m\n",
            "Depends on vulnerable versions of \u001b[1mcryptiles\u001b[22m\n",
            "Depends on vulnerable versions of \u001b[1mhoek\u001b[22m\n",
            "Depends on vulnerable versions of \u001b[1msntp\u001b[22m\n",
            "\u001b[32m\u001b[1mfix available\u001b[22m\u001b[39m via `npm audit fix`\n",
            "\u001b[2mnode_modules/hawk\u001b[22m\n",
            "\n",
            "\u001b[1mhoek\u001b[22m  *\n",
            "Severity: \u001b[31m\u001b[1mhigh\u001b[22m\u001b[39m\n",
            "\u001b[1mhoek subject to prototype pollution via the clone function.\u001b[22m - https://github.com/advisories/GHSA-c429-5p7v-vgjp\n",
            "\u001b[1mPrototype Pollution in hoek\u001b[22m - https://github.com/advisories/GHSA-jp4x-w63m-7wgm\n",
            "\u001b[32m\u001b[1mfix available\u001b[22m\u001b[39m via `npm audit fix`\n",
            "\u001b[2mnode_modules/hoek\u001b[22m\n",
            "  \u001b[1mboom\u001b[22m  *\n",
            "  Depends on vulnerable versions of \u001b[1mhoek\u001b[22m\n",
            "  \u001b[2mnode_modules/boom\u001b[22m\n",
            "    \u001b[1mcryptiles\u001b[22m  *\n",
            "    Depends on vulnerable versions of \u001b[1mboom\u001b[22m\n",
            "    \u001b[2mnode_modules/cryptiles\u001b[22m\n",
            "  \u001b[1msntp\u001b[22m  0.0.0 || >=0.1.1\n",
            "  Depends on vulnerable versions of \u001b[1mhoek\u001b[22m\n",
            "  \u001b[2mnode_modules/sntp\u001b[22m\n",
            "\n",
            "\n",
            "\u001b[1mtough-cookie\u001b[22m  <4.1.3\n",
            "Severity: \u001b[33m\u001b[1mmoderate\u001b[22m\u001b[39m\n",
            "\u001b[1mtough-cookie Prototype Pollution vulnerability\u001b[22m - https://github.com/advisories/GHSA-72xf-g2v4-qvf3\n",
            "\u001b[32m\u001b[1mfix available\u001b[22m\u001b[39m via `npm audit fix`\n",
            "\u001b[2mnode_modules/tough-cookie\u001b[22m\n",
            "\n",
            "\u001b[31m\u001b[1m12\u001b[22m\u001b[39m vulnerabilities (3 \u001b[33m\u001b[1mmoderate\u001b[22m\u001b[39m, 7 \u001b[31m\u001b[1mhigh\u001b[22m\u001b[39m, 2 \u001b[35m\u001b[1mcritical\u001b[22m\u001b[39m)\n",
            "\n",
            "To address all issues, run:\n",
            "  npm audit fix\n",
            "\u001b[1G\u001b[0K⠧\u001b[1G\u001b[0K\u001b[1G\u001b[0K⠙\u001b[1G\u001b[0K⠹\u001b[1G\u001b[0K⠸\u001b[1G\u001b[0K⠼\u001b[1G\u001b[0K⠴\u001b[1G\u001b[0K⠦\u001b[1G\u001b[0K⠧\u001b[1G\u001b[0K⠇\u001b[1G\u001b[0K⠏\u001b[1G\u001b[0K⠋\u001b[1G\u001b[0K⠙\u001b[1G\u001b[0K⠹\u001b[1G\u001b[0K⠸\u001b[1G\u001b[0K⠼\u001b[1G\u001b[0K⠴\u001b[1G\u001b[0K⠦\u001b[1G\u001b[0K⠧\u001b[1G\u001b[0K⠇\u001b[1G\u001b[0K⠏\u001b[1G\u001b[0K⠋\u001b[1G\u001b[0K⠙\u001b[1G\u001b[0K⠹\u001b[1G\u001b[0K⠸\u001b[1G\u001b[0K⠼\u001b[1G\u001b[0K⠴\u001b[1G\u001b[0K⠦\u001b[1G\u001b[0K⠧\u001b[1G\u001b[0K⠇\u001b[1G\u001b[0K⠏\u001b[1G\u001b[0K⠋\u001b[1G\u001b[0K⠙\u001b[1G\u001b[0K⠹\u001b[1G\u001b[0K⠸\u001b[1G\u001b[0K⠼\u001b[1G\u001b[0K⠴\u001b[1G\u001b[0K⠦\u001b[1G\u001b[0K\u001b[1mnpm\u001b[22m \u001b[33mwarn\u001b[39m \u001b[94mdeprecated\u001b[39m debug@4.1.1: Debug versions >=3.2.0 <3.2.7 || >=4 <4.3.1 have a low-severity ReDos regression when used in a Node.js environment. It is recommended you upgrade to 3.2.7 or 4.3.1. (https://github.com/visionmedia/debug/issues/797)\n",
            "\u001b[1G\u001b[0K⠦\u001b[1G\u001b[0K\u001b[1mnpm\u001b[22m \u001b[33mwarn\u001b[39m \u001b[94mdeprecated\u001b[39m axios@0.19.0: Critical security vulnerability fixed in v0.21.1. For more information, see https://github.com/axios/axios/pull/3410\n",
            "\u001b[1G\u001b[0K⠧\u001b[1G\u001b[0K⠇\u001b[1G\u001b[0K⠏\u001b[1G\u001b[0K⠋\u001b[1G\u001b[0K\n",
            "added 38 packages, removed 74 packages, changed 5 packages, and audited 60 packages in 4s\n",
            "\u001b[1G\u001b[0K⠋\u001b[1G\u001b[0K\n",
            "\u001b[1G\u001b[0K⠋\u001b[1G\u001b[0K5 packages are looking for funding\n",
            "\u001b[1G\u001b[0K⠋\u001b[1G\u001b[0K  run `npm fund` for details\n",
            "\u001b[1G\u001b[0K⠋\u001b[1G\u001b[0K\n",
            "\u001b[1m# npm audit report\u001b[22m\n",
            "\n",
            "\u001b[1maxios\u001b[22m  <=0.29.0\n",
            "Severity: \u001b[31m\u001b[1mhigh\u001b[22m\u001b[39m\n",
            "\u001b[1mAxios vulnerable to Server-Side Request Forgery\u001b[22m - https://github.com/advisories/GHSA-4w2v-q235-vp99\n",
            "\u001b[1mAxios Cross-Site Request Forgery Vulnerability\u001b[22m - https://github.com/advisories/GHSA-wf5p-g6vw-rhxx\n",
            "\u001b[1maxios Inefficient Regular Expression Complexity vulnerability\u001b[22m - https://github.com/advisories/GHSA-cph5-m8f7-6c5x\n",
            "\u001b[1maxios Requests Vulnerable To Possible SSRF and Credential Leakage via Absolute URL\u001b[22m - https://github.com/advisories/GHSA-jr5f-v2jv-69x6\n",
            "Depends on vulnerable versions of \u001b[1mfollow-redirects\u001b[22m\n",
            "\u001b[32m\u001b[1mfix available\u001b[22m\u001b[39m via `npm audit fix`\n",
            "\u001b[2mnode_modules/axios\u001b[22m\n",
            "  \u001b[1mlocaltunnel\u001b[22m  1.9.0 - 2.0.1\n",
            "  Depends on vulnerable versions of \u001b[1maxios\u001b[22m\n",
            "  Depends on vulnerable versions of \u001b[1mdebug\u001b[22m\n",
            "  Depends on vulnerable versions of \u001b[1myargs\u001b[22m\n",
            "  \u001b[2mnode_modules/localtunnel\u001b[22m\n",
            "\n",
            "\u001b[1mdebug\u001b[22m  4.0.0 - 4.3.0\n",
            "\u001b[1mRegular Expression Denial of Service in debug\u001b[22m - https://github.com/advisories/GHSA-gxpj-cx7g-858c\n",
            "\u001b[32m\u001b[1mfix available\u001b[22m\u001b[39m via `npm audit fix`\n",
            "\u001b[2mnode_modules/debug\u001b[22m\n",
            "\n",
            "\u001b[1mfollow-redirects\u001b[22m  <=1.15.5\n",
            "Severity: \u001b[31m\u001b[1mhigh\u001b[22m\u001b[39m\n",
            "\u001b[1mExposure of Sensitive Information to an Unauthorized Actor in follow-redirects\u001b[22m - https://github.com/advisories/GHSA-pw2r-vq6v-hr8c\n",
            "\u001b[1mFollow Redirects improperly handles URLs in the url.parse() function\u001b[22m - https://github.com/advisories/GHSA-jchw-25xp-jwwc\n",
            "\u001b[1mfollow-redirects' Proxy-Authorization header kept across hosts\u001b[22m - https://github.com/advisories/GHSA-cxjh-pqwp-8mfp\n",
            "\u001b[1mExposure of sensitive information in follow-redirects\u001b[22m - https://github.com/advisories/GHSA-74fj-2j2h-c42q\n",
            "\u001b[32m\u001b[1mfix available\u001b[22m\u001b[39m via `npm audit fix`\n",
            "\u001b[2mnode_modules/follow-redirects\u001b[22m\n",
            "\n",
            "\u001b[1myargs-parser\u001b[22m  <=5.0.0\n",
            "Severity: \u001b[33m\u001b[1mmoderate\u001b[22m\u001b[39m\n",
            "\u001b[1myargs-parser Vulnerable to Prototype Pollution\u001b[22m - https://github.com/advisories/GHSA-p9pc-299p-vxgp\n",
            "\u001b[32m\u001b[1mfix available\u001b[22m\u001b[39m via `npm audit fix`\n",
            "\u001b[2mnode_modules/yargs-parser\u001b[22m\n",
            "  \u001b[1myargs\u001b[22m  4.0.0-alpha1 - 7.0.0-alpha.3 || 7.1.1\n",
            "  Depends on vulnerable versions of \u001b[1myargs-parser\u001b[22m\n",
            "  \u001b[2mnode_modules/yargs\u001b[22m\n",
            "\n",
            "\u001b[31m\u001b[1m6\u001b[22m\u001b[39m vulnerabilities (1 \u001b[1mlow\u001b[22m, 2 \u001b[33m\u001b[1mmoderate\u001b[22m\u001b[39m, 3 \u001b[31m\u001b[1mhigh\u001b[22m\u001b[39m)\n",
            "\n",
            "To address all issues, run:\n",
            "  npm audit fix\n",
            "\u001b[1G\u001b[0K⠋\u001b[1G\u001b[0K"
          ]
        }
      ]
    },
    {
      "cell_type": "code",
      "source": [
        "!streamlit run langChainApp.py &>/content/logs.txt & npx localtunnel --port 8501 & curl ipv4.icanhazip.com"
      ],
      "metadata": {
        "colab": {
          "base_uri": "https://localhost:8080/"
        },
        "id": "OfR9VuepgUp2",
        "outputId": "6c8b7bda-3551-4b24-f7f8-f3350d1e3556"
      },
      "execution_count": 8,
      "outputs": [
        {
          "output_type": "stream",
          "name": "stdout",
          "text": [
            "34.53.80.78\n",
            "\u001b[1G\u001b[0K⠙\u001b[1G\u001b[0K⠹\u001b[1G\u001b[0Kyour url is: https://mighty-humans-brake.loca.lt\n"
          ]
        }
      ]
    },
    {
      "cell_type": "markdown",
      "source": [
        "The `.run()` method is doing a lot of heavy lifting:\n",
        "\n",
        "1. Input Validation: Ensures all required variables are provided\n",
        "2. Prompt Formatting: Applies the template with your variables\n",
        "3. LLM Invocation: Handles the API call with proper error handling\n",
        "4. Response Processing: Returns clean, processed output"
      ],
      "metadata": {
        "id": "Q4FOyafgb_PQ"
      }
    },
    {
      "cell_type": "markdown",
      "source": [
        "##  Make LLM to \"REMEMBER\"\n",
        "\n",
        "You need to make sure your LLM remembers the conversation from the prvious prompt, otherwise you conversation will be broken as LLMs are stateless - every call and response are independent."
      ],
      "metadata": {
        "id": "7r1moaYTiwwV"
      }
    },
    {
      "cell_type": "markdown",
      "source": [
        "Code After adding Buffer Memory to LLM"
      ],
      "metadata": {
        "id": "bDvq_7sW3e1w"
      }
    },
    {
      "cell_type": "code",
      "source": [
        "%%writefile langChainApp.py\n",
        "\n",
        "from langchain.llms import OpenAI\n",
        "from langchain.prompts import PromptTemplate\n",
        "from langchain.chains import LLMChain\n",
        "from langchain.memory import ConversationBufferMemory\n",
        "\n",
        "import streamlit as st\n",
        "import os\n",
        "\n",
        "# Add your own secret API key\n",
        "openai_key = \"xxx\"\n",
        "\n",
        "# Model Setup\n",
        "#Initializing the OpenAI LLM with the key\n",
        "os.environ[\"OPENAI_API_KEY\"] = openai_key\n",
        "\n",
        "# Initialize the the model with a specific Inference Parameterts 1. temperature, Top_p 2. Length --> Top_k.\n",
        "# 1. Temperature controls randomness or creativity of the model's output. It ranges from 0 to 1. a low temperature is good for facts and high temperature is good for more creative + diverse outputs. We will set it to 0.7\n",
        "# 2. Top_p is a probabilty metrics that controls the top percentiles of the words from the propbabilty distribution. Lower Top_p --> less words --> more factual output. Higher Top_p --> more words --> more creative output\n",
        "llm = OpenAI(model=\"gpt-3.5-turbo-instruct\", temperature=0.7)\n",
        "\n",
        "# Streamlit App Setup\n",
        "st.title(\"🦜🔗 LangChain Anime App\")\n",
        "st.markdown(\"This App use OpenAI gpt-3.5-turbo-instruct model to provide summary for your favourite Anime character.\")\n",
        "input_text = st.text_input(\"Enter your favourite Anime character:\")\n",
        "print(input_text)\n",
        "\n",
        "# Prompt engineering Best Practices -\n",
        "# 1. Alsways start prompt with interrorgation. Begin prompt with words like WHO, WHAT, WHERE, WHY & HOW\n",
        "# 2. Provide Context\n",
        "# 3. Provide Example Response\n",
        "\n",
        "# Create your prompt here\n",
        "# 1. Define a prompt template with placeholders\n",
        "prompt_template=\"You are an encyclopedia of Anime. Provide a brief summary for {anime_character}. Also, proivde the super move of the character.\"\n",
        "prompt = PromptTemplate(input_variables=[\"anime_character\"], template = prompt_template)\n",
        "\n",
        "\n",
        "if input_text:\n",
        "  # llm, prompt, memory are the objects that LLMChain supports\n",
        "  llm_chain = LLMChain(llm=llm, prompt=prompt, memory=ConversationBufferMemory())\n",
        "  #LLmChain allows you to avoid the promptformatting.\n",
        "  try:\n",
        "    response = llm_chain.run(anime_character = input_text)\n",
        "  except Exception as e:\n",
        "    st.write(\"There is an error in getting response from the llm.\")\n",
        "    st.error(f\"Error\",{e})\n",
        "  else:\n",
        "    st.write(\"**Response from the model:**\")\n",
        "    st.write(response)"
      ],
      "metadata": {
        "id": "hHmMFNUF3cpX"
      },
      "execution_count": null,
      "outputs": []
    },
    {
      "cell_type": "markdown",
      "source": [
        "### Memory Types in LangChain\n",
        "1. **Buffer Memory** - Stores all conversation\n",
        "  `from langchain.memory import ConversationBufferMemory\n",
        "    memory = ConversationBufferMemory()`\n",
        "2. **Buffer Window Memory** - Keeps only last 'k' interactions\n",
        "  `from langchain.memory import ConversationBufferWindowMemory\n",
        "    memory = ConversationBufferWindowMemory(k=10)`  \n",
        "3. **Token Buffer Memory** - Limits by token count\n",
        "  `from langchain.memory import ConversationTokenBufferMemory\n",
        "  memory = ConversationTokenBufferMemory(llm=llm, max_token_limit=1000)`\n",
        "4. Summary Memory - Summarizes old conversations\n",
        "  `from langchain.memory import ConversationSummaryMemory\n",
        "    memory = ConversationSummaryMemory(llm=llm)`"
      ],
      "metadata": {
        "id": "KBBxvuUR7EMQ"
      }
    }
  ]
}